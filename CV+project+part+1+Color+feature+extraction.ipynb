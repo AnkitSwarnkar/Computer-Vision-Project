{
 "cells": [
  {
   "cell_type": "markdown",
   "metadata": {},
   "source": [
    "## Color Feature Extraction : Temporal Analysis for Evolution of Web Design "
   ]
  },
  {
   "cell_type": "markdown",
   "metadata": {},
   "source": [
    "\n",
    "\n",
    "\n",
    "Log:\n",
    "ankswarn@iu.edu\n",
    "1. K mean quantization .. done \n",
    "2. Local region quantization.. done\n",
    "\n",
    "Need to be done\n",
    "\n",
    "Magic Parameters :\n",
    "* bin count of HSV\n",
    "* Region of perspective \n",
    "* Final run and export\n",
    "\n",
    "Code starts from here"
   ]
  },
  {
   "cell_type": "code",
   "execution_count": 1,
   "metadata": {
    "collapsed": true
   },
   "outputs": [],
   "source": [
    "import cv2\n",
    "import numpy as np\n",
    "import pandas as pd\n",
    "from sklearn.cluster import MiniBatchKMeans\n",
    "import argparse#May be"
   ]
  },
  {
   "cell_type": "code",
   "execution_count": 132,
   "metadata": {
    "collapsed": false
   },
   "outputs": [
    {
     "data": {
      "text/plain": [
       "'3.4.0'"
      ]
     },
     "execution_count": 132,
     "metadata": {},
     "output_type": "execute_result"
    }
   ],
   "source": [
    "cv2.__version__"
   ]
  },
  {
   "cell_type": "code",
   "execution_count": 2,
   "metadata": {
    "collapsed": true
   },
   "outputs": [],
   "source": [
    "import os\n",
    "import matplotlib.pyplot as plt\n",
    "%matplotlib inline"
   ]
  },
  {
   "cell_type": "code",
   "execution_count": 197,
   "metadata": {
    "collapsed": true
   },
   "outputs": [],
   "source": [
    "os.chdir('E://Study//CV//images-227/')"
   ]
  },
  {
   "cell_type": "code",
   "execution_count": 4,
   "metadata": {
    "collapsed": true
   },
   "outputs": [],
   "source": [
    "feature_data= pd.DataFrame(columns=['Website','Year','Month'])"
   ]
  },
  {
   "cell_type": "markdown",
   "metadata": {},
   "source": [
    "### Approach I : K- mean clustering quantization "
   ]
  },
  {
   "cell_type": "code",
   "execution_count": 5,
   "metadata": {
    "collapsed": true
   },
   "outputs": [],
   "source": [
    "def quantize_(img_name, clt, cluster_count =16):\n",
    "    img = cv2.imread(img_name)\n",
    "    img = cv2.cvtColor(img, cv2.COLOR_BGR2LAB)\n",
    "    pixel = np.reshape(img,(img.shape[0] * img.shape[1],3))#resize\n",
    "    labels = clt.fit_predict(pixel)\n",
    "    feature_ = clt.cluster_centers_.flatten()\n",
    "    return feature_"
   ]
  },
  {
   "cell_type": "code",
   "execution_count": 6,
   "metadata": {
    "collapsed": true
   },
   "outputs": [],
   "source": [
    "clt = MiniBatchKMeans(n_clusters=10)"
   ]
  },
  {
   "cell_type": "code",
   "execution_count": 8,
   "metadata": {
    "collapsed": false
   },
   "outputs": [
    {
     "data": {
      "text/plain": [
       "<matplotlib.image.AxesImage at 0x209e23a8048>"
      ]
     },
     "execution_count": 8,
     "metadata": {},
     "output_type": "execute_result"
    },
    {
     "data": {
      "image/png": "[encoded data removed]",
      "text/plain": [
       "<matplotlib.figure.Figure at 0x209e24253c8>"
      ]
     },
     "metadata": {},
     "output_type": "display_data"
    }
   ],
   "source": [
    "img = cv2.imread('20140901002235.png')\n",
    "(h, w) = img.shape[:2]\n",
    "plt.imshow(img)"
   ]
  },
  {
   "cell_type": "code",
   "execution_count": 9,
   "metadata": {
    "collapsed": true
   },
   "outputs": [],
   "source": [
    "img = cv2.imread('20140901002235.png')\n",
    "(h, w) = img.shape[:2]\n",
    "img = cv2.cvtColor(img, cv2.COLOR_BGR2LAB)\n",
    "pixel = np.reshape(img,(img.shape[0] * img.shape[1],3))#resize\n",
    "clt = MiniBatchKMeans(n_clusters=10)\n",
    "labels = clt.fit_predict(pixel)\n",
    "quant = clt.cluster_centers_.astype(\"uint8\")[labels]"
   ]
  },
  {
   "cell_type": "code",
   "execution_count": 10,
   "metadata": {
    "collapsed": false
   },
   "outputs": [
    {
     "data": {
      "text/plain": [
       "array([[254, 127, 127],\n",
       "       [254, 127, 127],\n",
       "       [254, 127, 127],\n",
       "       ..., \n",
       "       [254, 127, 127],\n",
       "       [254, 127, 127],\n",
       "       [254, 127, 127]], dtype=uint8)"
      ]
     },
     "execution_count": 10,
     "metadata": {},
     "output_type": "execute_result"
    }
   ],
   "source": [
    "quant"
   ]
  },
  {
   "cell_type": "code",
   "execution_count": 11,
   "metadata": {
    "collapsed": false
   },
   "outputs": [],
   "source": [
    "quant = quant.reshape((h, w, 3))\n",
    "quant = cv2.cvtColor(quant, cv2.COLOR_LAB2BGR)"
   ]
  },
  {
   "cell_type": "code",
   "execution_count": 12,
   "metadata": {
    "collapsed": false
   },
   "outputs": [
    {
     "data": {
      "text/plain": [
       "<matplotlib.image.AxesImage at 0x209e251f518>"
      ]
     },
     "execution_count": 12,
     "metadata": {},
     "output_type": "execute_result"
    },
    {
     "data": {
      "image/png": "[encoded data removed]",
      "text/plain": [
       "<matplotlib.figure.Figure at 0x209e244acf8>"
      ]
     },
     "metadata": {},
     "output_type": "display_data"
    }
   ],
   "source": [
    "plt.imshow(quant)"
   ]
  },
  {
   "cell_type": "code",
   "execution_count": 13,
   "metadata": {
    "collapsed": false
   },
   "outputs": [
    {
     "data": {
      "text/plain": [
       "array([ 254.92260692,  127.99796334,  127.99253225,  177.21428571,\n",
       "        126.35714286,  129.42857143,  214.69565217,  128.        ,\n",
       "        128.        ,  241.91304348,  128.43478261,  128.08695652,\n",
       "        118.47368421,  145.05263158,  138.63157895,  212.56666667,\n",
       "        121.86666667,  105.03333333,  147.65      ,  130.6       ,\n",
       "        129.15      ,  229.025     ,  127.8       ,  127.325     ,\n",
       "        243.10714286,  125.71428571,  121.42857143,  196.66666667,\n",
       "        128.        ,  128.        ])"
      ]
     },
     "execution_count": 13,
     "metadata": {},
     "output_type": "execute_result"
    }
   ],
   "source": [
    "clt.cluster_centers_.flatten()"
   ]
  },
  {
   "cell_type": "code",
   "execution_count": 14,
   "metadata": {
    "collapsed": false
   },
   "outputs": [
    {
     "data": {
      "text/plain": [
       "array([ 254.96958372,  127.9989619 ,  127.99563999,  203.06278027,\n",
       "        128.69506726,  128.23318386,  122.36842105,  138.60818713,\n",
       "        134.09356725,  235.27272727,  126.75757576,  123.6010101 ,\n",
       "        242.87804878,  128.04065041,  128.00813008,  250.17763158,\n",
       "        127.92105263,  127.76315789,  216.55905512,  122.18897638,\n",
       "        107.25984252,  178.1878453 ,  128.91160221,  126.93922652,\n",
       "        244.29931973,  126.39455782,  123.44217687,  223.20212766,\n",
       "        127.90957447,  128.2606383 ])"
      ]
     },
     "execution_count": 14,
     "metadata": {},
     "output_type": "execute_result"
    }
   ],
   "source": [
    "quantize_(clt=clt,img_name='20140901002235.png',cluster_count=16)"
   ]
  },
  {
   "cell_type": "code",
   "execution_count": 15,
   "metadata": {
    "collapsed": true
   },
   "outputs": [],
   "source": [
    "a2 = quantize_(clt=clt,img_name='20140901002235.png',cluster_count=20) # hit and trial method"
   ]
  },
  {
   "cell_type": "markdown",
   "metadata": {
    "collapsed": true
   },
   "source": [
    "### Approach II : Local feature extraction "
   ]
  },
  {
   "cell_type": "code",
   "execution_count": 171,
   "metadata": {
    "collapsed": false
   },
   "outputs": [],
   "source": [
    "class ImageExtraction():\n",
    "    def __init__(self):\n",
    "        self.H_histsize = 16 #Bin Size for H\n",
    "        self.S_histsize = 16 #Bin Size for H\n",
    "        self.V_histsize = 16 #Bin Size for H\n",
    "         #3 channel\n",
    "    def extract(self, image):\n",
    "        \"\"\"\n",
    "        image as rgb\n",
    "        \"\"\"\n",
    "        #1.Convert into hsv\n",
    "        img = cv2.cvtColor(image,cv2.COLOR_BGR2HSV)\n",
    "        feature =[]\n",
    "        (h,w) = img.shape[:2]\n",
    "        (cX,cY) = (int(0.5 * w),int(h * 0.5))\n",
    "        #Segmnent into rectangle \n",
    "        segments = [(0, cX, 0, cY), (cX, w, 0, cY), (cX, w, cY, h), (0, cX, cY, h)]\n",
    "        #Elipse mask\n",
    "        mask_elip =  np.zeros(image.shape[:2],np.uint8)\n",
    "        (ax_X, ax_Y) = (int((w * 0.75) / 2), int((h * 0.75) / 2)) #Half of the size of the ellipse main axes.\n",
    "        cv2.ellipse(mask_elip, (cX, cY), (ax_X, ax_Y), 0, 0, 360, 255, -1) #https://docs.opencv.org/3.1.0/dc/da5/tutorial_py_drawing_functions.html   \n",
    "        for (startX, endX, startY, endY) in segments:\n",
    "            cor_mask = np.zeros(image.shape[:2],np.uint8)\n",
    "            cor_mask[startX:endX,startY:endY] = 255\n",
    "            cor_mask = cv2.subtract(cor_mask, mask_elip)\n",
    "            feature.extend(self.calc_hist(image,cor_mask))\n",
    "        feature.extend(self.calc_hist(image,mask_elip))\n",
    "        return feature\n",
    "        \n",
    "    def calc_hist(self,image, mask):\n",
    "        hist = cv2.calcHist([image],[0, 1, 2],mask,[self.H_histsize,self.S_histsize,self.V_histsize],[0, 180, 0, 256, 0, 256]) # H range [0,180]\n",
    "        hist = cv2.normalize(hist,hist).flatten()\n",
    "        return hist"
   ]
  },
  {
   "cell_type": "markdown",
   "metadata": {},
   "source": [
    "Sample Example"
   ]
  },
  {
   "cell_type": "code",
   "execution_count": 193,
   "metadata": {
    "collapsed": false
   },
   "outputs": [
    {
     "data": {
      "text/plain": [
       "(227, 227, 3)"
      ]
     },
     "execution_count": 193,
     "metadata": {},
     "output_type": "execute_result"
    }
   ],
   "source": [
    "img.shape"
   ]
  },
  {
   "cell_type": "code",
   "execution_count": 194,
   "metadata": {
    "collapsed": false
   },
   "outputs": [],
   "source": [
    "a = ImageExtraction()\n",
    "h1  = a.extract(image=img)"
   ]
  },
  {
   "cell_type": "code",
   "execution_count": 195,
   "metadata": {
    "collapsed": false
   },
   "outputs": [
    {
     "data": {
      "text/plain": [
       "20480"
      ]
     },
     "execution_count": 195,
     "metadata": {},
     "output_type": "execute_result"
    }
   ],
   "source": [
    "len(h1)"
   ]
  },
  {
   "cell_type": "code",
   "execution_count": 142,
   "metadata": {
    "collapsed": false
   },
   "outputs": [
    {
     "data": {
      "text/plain": [
       "<matplotlib.image.AxesImage at 0x21709f70be0>"
      ]
     },
     "execution_count": 142,
     "metadata": {},
     "output_type": "execute_result"
    },
    {
     "data": {
      "image/png": "[encoded data removed]",
      "text/plain": [
       "<matplotlib.figure.Figure at 0x21709ee0f98>"
      ]
     },
     "metadata": {},
     "output_type": "display_data"
    }
   ],
   "source": [
    "(h,w) = img.shape[:2]\n",
    "cX = int(w/2)\n",
    "cY = int(h/2)\n",
    "mask_elip =  np.zeros(img.shape[:2],\"uint8\")\n",
    "(ax_X, ax_Y) = (int((w * 0.75) / 2), int((h * 0.75) / 2)) #Half of the size of the ellipse main axes.\n",
    "cv2.ellipse(mask_elip, (cX, cY), (ax_X, ax_Y), 0, 0, 360, 255, -1) \n",
    "masked_img = cv2.bitwise_and(img,img,mask = mask_elip)\n",
    "plt.imshow(masked_img)"
   ]
  },
  {
   "cell_type": "code",
   "execution_count": 186,
   "metadata": {
    "collapsed": false
   },
   "outputs": [
    {
     "data": {
      "image/png": "[encoded data removed]",
      "text/plain": [
       "<matplotlib.figure.Figure at 0x2170a4ad518>"
      ]
     },
     "metadata": {},
     "output_type": "display_data"
    }
   ],
   "source": [
    "segments = [(0, cX, 0, cY), (cX, w, 0, cY), (cX, w, cY, h), (0, cX, cY, h)]\n",
    "\n",
    "#Elipse mask\n",
    "mask_elip =  np.zeros(img.shape[:2],np.uint8)\n",
    "(ax_X, ax_Y) = (int((w * 0.75) / 2), int((h * 0.75) / 2)) #Half of the size of the ellipse main axes.\n",
    "cv2.ellipse(mask_elip, (cX, cY), (ax_X, ax_Y), 0, 0, 360, 255, -1) #https://docs.opencv.org/3.1.0/dc/da5/tutorial_py_drawing_functions.html   \n",
    "i=1\n",
    "for (startX, endX, startY, endY) in segments:\n",
    "    cor_mask = np.zeros(img.shape[:2],np.uint8)\n",
    "    cor_mask[startX:endX,startY:endY] = 255\n",
    "    cor_mask = cv2.subtract(cor_mask, mask_elip)\n",
    "    masked_img = cv2.bitwise_and(img,img,mask = cor_mask)\n",
    "    plt.subplot(1,4,i)\n",
    "    plt.imshow(masked_img)\n",
    "    i+=1\n",
    "    "
   ]
  },
  {
   "cell_type": "markdown",
   "metadata": {},
   "source": [
    "Create Feature Map"
   ]
  },
  {
   "cell_type": "code",
   "execution_count": null,
   "metadata": {
    "collapsed": false
   },
   "outputs": [],
   "source": [
    "year_final = []\n",
    "month_final = []\n",
    "website_final =[]\n",
    "feature_final = []\n",
    "\n",
    "a = ImageExtraction()\n",
    "count=5\n",
    "\n",
    "for website in os.listdir(os.getcwd()):\n",
    "    web_dir = os.path.join(os.getcwd(),website)\n",
    "    #print(\"[LOG] Working on \",website)\n",
    "    count_img =0\n",
    "    for img in os.listdir(web_dir):\n",
    "        count_img = count_img+1\n",
    "        img_ = os.path.join(os.getcwd(),website,img)\n",
    "        img_ = img_.replace('\\\\','//') # for Windows adjustment \n",
    "        if(os.path.exists(img_)==-1):\n",
    "            print(\"[ERROR] Error while reading\")\n",
    "        year = img[:4]\n",
    "        month = img[4:6]\n",
    "        img = cv2.imread(img_)\n",
    "        feature = a.extract(image=img)\n",
    "        year_final.append(year)\n",
    "        month_final.append(month)\n",
    "        website_final.append(website)\n",
    "        feature_final.append(feature)\n",
    "    #print(\"[LOG] Images Read: \",count_img)\n",
    "dataSet = pd.DataFrame(feature_final)\n",
    "dataSet['Year'] = year_final\n",
    "dataSet['Month'] = month_final\n",
    "dataSet['Website'] = website"
   ]
  },
  {
   "cell_type": "code",
   "execution_count": 240,
   "metadata": {
    "collapsed": false
   },
   "outputs": [
    {
     "data": {
      "text/plain": [
       "(24174, 20483)"
      ]
     },
     "execution_count": 240,
     "metadata": {},
     "output_type": "execute_result"
    }
   ],
   "source": [
    "dataSet.shape"
   ]
  },
  {
   "cell_type": "code",
   "execution_count": null,
   "metadata": {
    "collapsed": true
   },
   "outputs": [],
   "source": [
    "dataSet.to_csv('Full20483_colorFeature.csv')"
   ]
  },
  {
   "cell_type": "code",
   "execution_count": null,
   "metadata": {
    "collapsed": false
   },
   "outputs": [
    {
     "data": {
      "text/html": [
       "<div>\n",
       "<table border=\"1\" class=\"dataframe\">\n",
       "  <thead>\n",
       "    <tr style=\"text-align: right;\">\n",
       "      <th></th>\n",
       "      <th>0</th>\n",
       "      <th>1</th>\n",
       "      <th>2</th>\n",
       "      <th>3</th>\n",
       "      <th>4</th>\n",
       "      <th>5</th>\n",
       "      <th>6</th>\n",
       "      <th>7</th>\n",
       "      <th>8</th>\n",
       "      <th>9</th>\n",
       "      <th>...</th>\n",
       "      <th>20473</th>\n",
       "      <th>20474</th>\n",
       "      <th>20475</th>\n",
       "      <th>20476</th>\n",
       "      <th>20477</th>\n",
       "      <th>20478</th>\n",
       "      <th>20479</th>\n",
       "      <th>Year</th>\n",
       "      <th>Month</th>\n",
       "      <th>Website</th>\n",
       "    </tr>\n",
       "  </thead>\n",
       "  <tbody>\n",
       "    <tr>\n",
       "      <th>0</th>\n",
       "      <td>0.0</td>\n",
       "      <td>0.042120</td>\n",
       "      <td>0.406896</td>\n",
       "      <td>0.0</td>\n",
       "      <td>0.0</td>\n",
       "      <td>0.0</td>\n",
       "      <td>0.0</td>\n",
       "      <td>0.0</td>\n",
       "      <td>0.0</td>\n",
       "      <td>0.0</td>\n",
       "      <td>...</td>\n",
       "      <td>0.0</td>\n",
       "      <td>0.0</td>\n",
       "      <td>0.0</td>\n",
       "      <td>0.0</td>\n",
       "      <td>0.0</td>\n",
       "      <td>0.0</td>\n",
       "      <td>0.0</td>\n",
       "      <td>2003</td>\n",
       "      <td>02</td>\n",
       "      <td>yum.com</td>\n",
       "    </tr>\n",
       "    <tr>\n",
       "      <th>1</th>\n",
       "      <td>0.0</td>\n",
       "      <td>0.044087</td>\n",
       "      <td>0.425893</td>\n",
       "      <td>0.0</td>\n",
       "      <td>0.0</td>\n",
       "      <td>0.0</td>\n",
       "      <td>0.0</td>\n",
       "      <td>0.0</td>\n",
       "      <td>0.0</td>\n",
       "      <td>0.0</td>\n",
       "      <td>...</td>\n",
       "      <td>0.0</td>\n",
       "      <td>0.0</td>\n",
       "      <td>0.0</td>\n",
       "      <td>0.0</td>\n",
       "      <td>0.0</td>\n",
       "      <td>0.0</td>\n",
       "      <td>0.0</td>\n",
       "      <td>2003</td>\n",
       "      <td>02</td>\n",
       "      <td>yum.com</td>\n",
       "    </tr>\n",
       "    <tr>\n",
       "      <th>2</th>\n",
       "      <td>0.0</td>\n",
       "      <td>0.044087</td>\n",
       "      <td>0.425893</td>\n",
       "      <td>0.0</td>\n",
       "      <td>0.0</td>\n",
       "      <td>0.0</td>\n",
       "      <td>0.0</td>\n",
       "      <td>0.0</td>\n",
       "      <td>0.0</td>\n",
       "      <td>0.0</td>\n",
       "      <td>...</td>\n",
       "      <td>0.0</td>\n",
       "      <td>0.0</td>\n",
       "      <td>0.0</td>\n",
       "      <td>0.0</td>\n",
       "      <td>0.0</td>\n",
       "      <td>0.0</td>\n",
       "      <td>0.0</td>\n",
       "      <td>2003</td>\n",
       "      <td>02</td>\n",
       "      <td>yum.com</td>\n",
       "    </tr>\n",
       "    <tr>\n",
       "      <th>3</th>\n",
       "      <td>0.0</td>\n",
       "      <td>0.044087</td>\n",
       "      <td>0.425893</td>\n",
       "      <td>0.0</td>\n",
       "      <td>0.0</td>\n",
       "      <td>0.0</td>\n",
       "      <td>0.0</td>\n",
       "      <td>0.0</td>\n",
       "      <td>0.0</td>\n",
       "      <td>0.0</td>\n",
       "      <td>...</td>\n",
       "      <td>0.0</td>\n",
       "      <td>0.0</td>\n",
       "      <td>0.0</td>\n",
       "      <td>0.0</td>\n",
       "      <td>0.0</td>\n",
       "      <td>0.0</td>\n",
       "      <td>0.0</td>\n",
       "      <td>2003</td>\n",
       "      <td>03</td>\n",
       "      <td>yum.com</td>\n",
       "    </tr>\n",
       "    <tr>\n",
       "      <th>4</th>\n",
       "      <td>0.0</td>\n",
       "      <td>0.044087</td>\n",
       "      <td>0.425893</td>\n",
       "      <td>0.0</td>\n",
       "      <td>0.0</td>\n",
       "      <td>0.0</td>\n",
       "      <td>0.0</td>\n",
       "      <td>0.0</td>\n",
       "      <td>0.0</td>\n",
       "      <td>0.0</td>\n",
       "      <td>...</td>\n",
       "      <td>0.0</td>\n",
       "      <td>0.0</td>\n",
       "      <td>0.0</td>\n",
       "      <td>0.0</td>\n",
       "      <td>0.0</td>\n",
       "      <td>0.0</td>\n",
       "      <td>0.0</td>\n",
       "      <td>2003</td>\n",
       "      <td>04</td>\n",
       "      <td>yum.com</td>\n",
       "    </tr>\n",
       "  </tbody>\n",
       "</table>\n",
       "<p>5 rows × 20483 columns</p>\n",
       "</div>"
      ],
      "text/plain": [
       "     0         1         2    3    4    5    6    7    8    9   ...     20473  \\\n",
       "0  0.0  0.042120  0.406896  0.0  0.0  0.0  0.0  0.0  0.0  0.0   ...       0.0   \n",
       "1  0.0  0.044087  0.425893  0.0  0.0  0.0  0.0  0.0  0.0  0.0   ...       0.0   \n",
       "2  0.0  0.044087  0.425893  0.0  0.0  0.0  0.0  0.0  0.0  0.0   ...       0.0   \n",
       "3  0.0  0.044087  0.425893  0.0  0.0  0.0  0.0  0.0  0.0  0.0   ...       0.0   \n",
       "4  0.0  0.044087  0.425893  0.0  0.0  0.0  0.0  0.0  0.0  0.0   ...       0.0   \n",
       "\n",
       "   20474  20475  20476  20477  20478  20479  Year  Month  Website  \n",
       "0    0.0    0.0    0.0    0.0    0.0    0.0  2003     02  yum.com  \n",
       "1    0.0    0.0    0.0    0.0    0.0    0.0  2003     02  yum.com  \n",
       "2    0.0    0.0    0.0    0.0    0.0    0.0  2003     02  yum.com  \n",
       "3    0.0    0.0    0.0    0.0    0.0    0.0  2003     03  yum.com  \n",
       "4    0.0    0.0    0.0    0.0    0.0    0.0  2003     04  yum.com  \n",
       "\n",
       "[5 rows x 20483 columns]"
      ]
     },
     "execution_count": 242,
     "metadata": {},
     "output_type": "execute_result"
    }
   ],
   "source": [
    "dataSet.head()"
   ]
  },
  {
   "cell_type": "code",
   "execution_count": null,
   "metadata": {
    "collapsed": true
   },
   "outputs": [],
   "source": []
  }
 ],
 "metadata": {
  "anaconda-cloud": {},
  "kernelspec": {
   "display_name": "Python [conda root]",
   "language": "python",
   "name": "conda-root-py"
  },
  "language_info": {
   "codemirror_mode": {
    "name": "ipython",
    "version": 3
   },
   "file_extension": ".py",
   "mimetype": "text/x-python",
   "name": "python",
   "nbconvert_exporter": "python",
   "pygments_lexer": "ipython3",
   "version": "3.5.2"
  }
 },
 "nbformat": 4,
 "nbformat_minor": 2
}
